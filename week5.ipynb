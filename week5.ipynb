{
 "cells": [
  {
   "cell_type": "code",
   "execution_count": null,
   "id": "a2c7fd25",
   "metadata": {},
   "outputs": [
    {
     "name": "stdout",
     "output_type": "stream",
     "text": [
      "✅ Count Matrix Shape: (2500, 6908)\n",
      "✅ Cosine similarity matrix saved to 'cosine_similarity_matrix.csv'\n",
      "\n",
      "Movie Title                                                  | Director             | Release Date\n",
      "----------------------------------------------------------------------------------------------------\n",
      "Aliens                                                       | James Cameron        | 1986-07-18\n",
      "Titanic                                                      | James Cameron        | 1997-11-18\n",
      "True Lies                                                    | James Cameron        | 1994-07-14\n",
      "The Terminator                                               | James Cameron        | 1984-10-26\n",
      "Terminator 2: Judgment Day                                   | James Cameron        | 1991-07-01\n",
      "Star Trek Into Darkness                                      | J.J. Abrams          | 2013-05-05\n",
      "Battle Royale                                                | Kinji Fukasaku       | 2000-12-16\n",
      "Home                                                         | Tim Johnson          | 2015-03-18\n",
      "Meet Dave                                                    | Brian Robbins        | 2008-07-08\n",
      "PK                                                           | Rajkumar Hirani      | 2014-12-18\n",
      "\n",
      "✅ Recommendations saved to: recommendations_for_Avatar.csv\n"
     ]
    },
    {
     "data": {
      "text/plain": [
       "[{'Movie Title': 'Aliens',\n",
       "  'Director': 'James Cameron',\n",
       "  'Release Date': '1986-07-18'},\n",
       " {'Movie Title': 'Titanic',\n",
       "  'Director': 'James Cameron',\n",
       "  'Release Date': '1997-11-18'},\n",
       " {'Movie Title': 'True Lies',\n",
       "  'Director': 'James Cameron',\n",
       "  'Release Date': '1994-07-14'},\n",
       " {'Movie Title': 'The Terminator',\n",
       "  'Director': 'James Cameron',\n",
       "  'Release Date': '1984-10-26'},\n",
       " {'Movie Title': 'Terminator 2: Judgment Day',\n",
       "  'Director': 'James Cameron',\n",
       "  'Release Date': '1991-07-01'},\n",
       " {'Movie Title': 'Star Trek Into Darkness',\n",
       "  'Director': 'J.J. Abrams',\n",
       "  'Release Date': '2013-05-05'},\n",
       " {'Movie Title': 'Battle Royale',\n",
       "  'Director': 'Kinji Fukasaku',\n",
       "  'Release Date': '2000-12-16'},\n",
       " {'Movie Title': 'Home',\n",
       "  'Director': 'Tim Johnson',\n",
       "  'Release Date': '2015-03-18'},\n",
       " {'Movie Title': 'Meet Dave',\n",
       "  'Director': 'Brian Robbins',\n",
       "  'Release Date': '2008-07-08'},\n",
       " {'Movie Title': 'PK',\n",
       "  'Director': 'Rajkumar Hirani',\n",
       "  'Release Date': '2014-12-18'}]"
      ]
     },
     "execution_count": 6,
     "metadata": {},
     "output_type": "execute_result"
    }
   ],
   "source": [
    "import pandas as pd\n",
    "from sklearn.feature_extraction.text import CountVectorizer\n",
    "from sklearn.metrics.pairwise import cosine_similarity\n",
    "\n",
    "df = pd.read_csv(\"master_dataset_final.csv\")\n",
    "\n",
    "required_columns = {'title', 'main_director', 'release_date', 'soup'}\n",
    "if not required_columns.issubset(df.columns):\n",
    "    raise ValueError(\"Missing required columns in the CSV. Needed: title, main_director, release_date, soup\")\n",
    "\n",
    "vectorizer = CountVectorizer(analyzer='word', ngram_range=(1, 2), min_df=2)\n",
    "count_matrix = vectorizer.fit_transform(df['soup'])\n",
    "\n",
    "\n",
    "print(\"Count Matrix Shape:\", count_matrix.shape)\n",
    "\n",
    "\n",
    "cosine_sim = cosine_similarity(count_matrix)\n",
    "\n",
    "\n",
    "cosine_df = pd.DataFrame(cosine_sim, index=df['title'], columns=df['title'])\n",
    "cosine_df.to_csv(\"cosine_similarity_matrix.csv\")\n",
    "\n",
    "\n",
    "def recommend_movies(movie_title, num_recommendations=5):\n",
    "    if movie_title not in cosine_df.columns:\n",
    "        print(f\"Movie '{movie_title}' not found in the dataset.\")\n",
    "        return []\n",
    "\n",
    "    \n",
    "    similarity_scores = cosine_df[movie_title].sort_values(ascending=False)\n",
    "    top_titles = similarity_scores.iloc[1:num_recommendations+1].index\n",
    "\n",
    "    \n",
    "    recommendations = []\n",
    "    for title in top_titles:\n",
    "        movie_row = df[df['title'] == title].iloc[0]\n",
    "        recommendations.append({\n",
    "            'Movie Title': movie_row['title'],\n",
    "            'Director': movie_row['main_director'],\n",
    "            'Release Date': movie_row['release_date']\n",
    "        })\n",
    "\n",
    "   \n",
    "    rec_df = pd.DataFrame(recommendations)\n",
    "    safe_filename = f\"recommendations_for_{movie_title.replace(' ', '_')}.csv\"\n",
    "    rec_df.to_csv(safe_filename, index=False)\n",
    "\n",
    "    \n",
    "    print(\"\\n{:<60} | {:<20} | {}\".format(\"Movie Title\", \"Director\", \"Release Date\"))\n",
    "    print(\"-\" * 100)\n",
    "    for row in recommendations:\n",
    "        print(\"{:<60} | {:<20} | {}\".format(row['Movie Title'], row['Director'], row['Release Date']))\n",
    "\n",
    "    \n",
    "    return recommendations\n",
    "\n",
    "\n",
    "recommend_movies(\"Avatar\", 10)\n"
   ]
  },
  {
   "cell_type": "code",
   "execution_count": 7,
   "id": "34f09fac",
   "metadata": {},
   "outputs": [
    {
     "name": "stdout",
     "output_type": "stream",
     "text": [
      "Count Matrix Shape: (2500, 6908)\n"
     ]
    }
   ],
   "source": [
    "print(\"Count Matrix Shape:\", count_matrix.shape)\n"
   ]
  }
 ],
 "metadata": {
  "kernelspec": {
   "display_name": "Python 3",
   "language": "python",
   "name": "python3"
  },
  "language_info": {
   "codemirror_mode": {
    "name": "ipython",
    "version": 3
   },
   "file_extension": ".py",
   "mimetype": "text/x-python",
   "name": "python",
   "nbconvert_exporter": "python",
   "pygments_lexer": "ipython3",
   "version": "3.12.7"
  }
 },
 "nbformat": 4,
 "nbformat_minor": 5
}
