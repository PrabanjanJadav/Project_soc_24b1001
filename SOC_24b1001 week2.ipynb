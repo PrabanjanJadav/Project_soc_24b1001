{
 "cells": [
  {
   "cell_type": "code",
   "execution_count": 1,
   "id": "d7a64456",
   "metadata": {},
   "outputs": [
    {
     "name": "stdout",
     "output_type": "stream",
     "text": [
      "Index(['adult', 'belongs_to_collection', 'budget', 'genres', 'homepage', 'id',\n",
      "       'imdb_id', 'original_language', 'original_title', 'overview',\n",
      "       'popularity', 'poster_path', 'production_companies',\n",
      "       'production_countries', 'release_date', 'revenue', 'runtime',\n",
      "       'spoken_languages', 'status', 'tagline', 'title', 'video',\n",
      "       'vote_average', 'vote_count', 'cast', 'crew', 'keywords'],\n",
      "      dtype='object')\n",
      "(46628, 27)\n"
     ]
    }
   ],
   "source": [
    "import pandas as pd\n",
    "\n",
    "\n",
    "movies = pd.read_csv('movies_metadata.csv', low_memory=False)\n",
    "credits = pd.read_csv('credits.csv')\n",
    "keywords = pd.read_csv('keywords.csv')\n",
    "links = pd.read_csv('links.csv')\n",
    "\n",
    "\n",
    "movies['id'] = pd.to_numeric(movies['id'], errors='coerce')\n",
    "credits['id'] = pd.to_numeric(credits['id'], errors='coerce')\n",
    "keywords['id'] = pd.to_numeric(keywords['id'], errors='coerce')\n",
    "links['tmdbId'] = pd.to_numeric(links['tmdbId'], errors='coerce')\n",
    "\n",
    "\n",
    "movies['id'].dropna().astype(int)\n",
    "credits['id'].dropna().astype(int)\n",
    "keywords['id'].dropna().astype(int)\n",
    "links['tmdbId'].dropna().astype(int)\n",
    "\n",
    "\n",
    "\n",
    "merge1 = pd.merge(movies, credits, on='id', how='inner')\n",
    "merge2 = pd.merge(merge1, keywords, on='id', how='inner')\n",
    "\n",
    "\n",
    "master_dataset = merge2[merge2['id'].isin(links['tmdbId'])]\n",
    "master_dataset.to_csv('master_dataset.csv', index = False)\n",
    "print(master_dataset.columns)\n",
    "print(master_dataset.shape)\n"
   ]
  }
 ],
 "metadata": {
  "kernelspec": {
   "display_name": "Python 3",
   "language": "python",
   "name": "python3"
  },
  "language_info": {
   "codemirror_mode": {
    "name": "ipython",
    "version": 3
   },
   "file_extension": ".py",
   "mimetype": "text/x-python",
   "name": "python",
   "nbconvert_exporter": "python",
   "pygments_lexer": "ipython3",
   "version": "3.12.7"
  }
 },
 "nbformat": 4,
 "nbformat_minor": 5
}
